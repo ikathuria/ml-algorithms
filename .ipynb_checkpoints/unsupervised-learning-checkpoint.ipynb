{
 "cells": [
  {
   "cell_type": "markdown",
   "metadata": {},
   "source": [
    "# Prediction using Unsupervised ML\n",
    "**Author: Ishani Kathuria**"
   ]
  },
  {
   "cell_type": "markdown",
   "metadata": {},
   "source": [
    "Given a dataset with Sepal and Petal lengths and width of flowers, I used unsupervised learning methods to fit a K-Means Cluster algorithm that would then be able to classify the data into different clusters depicting the different Iris species the data points belong to."
   ]
  },
  {
   "cell_type": "code",
   "execution_count": null,
   "metadata": {},
   "outputs": [],
   "source": [
    "# importing the necessary packages\n",
    "import warnings\n",
    "warnings.filterwarnings('ignore')\n",
    "\n",
    "import pandas as pd\n",
    "import numpy as np\n",
    "import matplotlib.pyplot as plt\n",
    "from mpl_toolkits.mplot3d import Axes3D\n",
    "import seaborn as sns\n",
    "sns.set()"
   ]
  },
  {
   "cell_type": "code",
   "execution_count": null,
   "metadata": {},
   "outputs": [],
   "source": [
    "# importing the dataset as a pandas dataframe\n",
    "data = pd.read_csv(\"Iris.csv\")\n",
    "data.head()"
   ]
  },
  {
   "cell_type": "code",
   "execution_count": null,
   "metadata": {},
   "outputs": [],
   "source": [
    "# dropping the unnecessary id column\n",
    "data = data.drop(columns='Id')\n",
    "data.head()"
   ]
  },
  {
   "cell_type": "code",
   "execution_count": null,
   "metadata": {},
   "outputs": [],
   "source": [
    "data.shape"
   ]
  },
  {
   "cell_type": "code",
   "execution_count": null,
   "metadata": {},
   "outputs": [],
   "source": [
    "data.columns"
   ]
  },
  {
   "cell_type": "code",
   "execution_count": null,
   "metadata": {},
   "outputs": [],
   "source": [
    "data.Species.unique()"
   ]
  },
  {
   "cell_type": "code",
   "execution_count": null,
   "metadata": {
    "scrolled": false
   },
   "outputs": [],
   "source": [
    "fig, axes = plt.subplots(1, 2, figsize=(12,4))\n",
    "\n",
    "# Sepal scatterplot\n",
    "sns.scatterplot(data=data, x=\"SepalLengthCm\", y=\"SepalWidthCm\",\n",
    "                ax=axes[0], hue='Species', legend=False)\n",
    "# Petal scatterplot\n",
    "sns.scatterplot(data=data, x=\"PetalLengthCm\", y=\"PetalWidthCm\",\n",
    "                ax=axes[1], hue='Species')\n",
    "\n",
    "plt.legend(bbox_to_anchor=(1, 1))\n",
    "plt.show()"
   ]
  },
  {
   "cell_type": "markdown",
   "metadata": {},
   "source": [
    "## Dividing the dataset"
   ]
  },
  {
   "cell_type": "markdown",
   "metadata": {},
   "source": [
    "I divided the dataset into 3 different sets,\n",
    "1. `all_x`, All parameters of Speal length, Sepal width, Petal length and Petal width.\n",
    "2. `sepal_x`, Only Sepal length and width.\n",
    "3. `petal_x`, Only Petal length and width.\n",
    "\n",
    "I also set `y_true` with the correct species values of the dataset."
   ]
  },
  {
   "cell_type": "code",
   "execution_count": null,
   "metadata": {},
   "outputs": [],
   "source": [
    "all_x = data.iloc[:,[0, 1, 2, 3]].values\n",
    "sepal_x = data.iloc[:,[0, 1]].values\n",
    "petal_x = data.iloc[:,[2, 3]].values"
   ]
  },
  {
   "cell_type": "code",
   "execution_count": null,
   "metadata": {},
   "outputs": [],
   "source": [
    "species_dict = {'Iris-setosa': 0, 'Iris-versicolor': 1, 'Iris-virginica': 2}\n",
    "y_true = np.array([species_dict[i] for i in data.iloc[:,4].values])"
   ]
  },
  {
   "cell_type": "markdown",
   "metadata": {},
   "source": [
    "## K-Means Clustering Algorithm"
   ]
  },
  {
   "cell_type": "markdown",
   "metadata": {},
   "source": [
    "K-Means Clustering is an unsupervised learning method which selects random positions of _k_ centroids and then divides the datapoints into different clusters depending on which centroid they are closest to. The algorithm performs iterative calculations to optimize the positions of the centroids."
   ]
  },
  {
   "cell_type": "markdown",
   "metadata": {},
   "source": [
    "<img src=\"https://www.jeremyjordan.me/content/images/2016/12/kmeans.gif\" width=\"450\" align=\"center\">"
   ]
  },
  {
   "cell_type": "code",
   "execution_count": null,
   "metadata": {},
   "outputs": [],
   "source": [
    "from sklearn.cluster import KMeans"
   ]
  },
  {
   "cell_type": "markdown",
   "metadata": {},
   "source": [
    "### Elbow  method"
   ]
  },
  {
   "cell_type": "markdown",
   "metadata": {},
   "source": [
    "The optimal number of clusters were calculated using the elbow method. Here, different sum of squared differences are calculated for k in the range of 1 to 14 and then plotted on a graph. I plotted 3 graphs for my 3 sets of data mentioned earlier, `all_x`, `sepal_x` and `petal_x`."
   ]
  },
  {
   "cell_type": "code",
   "execution_count": null,
   "metadata": {
    "scrolled": true
   },
   "outputs": [],
   "source": [
    "all_sse = []\n",
    "sepal_sse = []\n",
    "petal_sse = []\n",
    "\n",
    "for k in range(1, 15):\n",
    "    # all\n",
    "    total_kmeans = KMeans(n_clusters=k, init='k-means++',\n",
    "                          max_iter=300, n_init=10, random_state=0).fit(all_x)\n",
    "    all_sse.append(total_kmeans.inertia_)\n",
    "    \n",
    "    # sepal\n",
    "    sepal_kmeans = KMeans(n_clusters=k, init='k-means++',\n",
    "                          max_iter=300, n_init=10, random_state=0).fit(sepal_x)\n",
    "    sepal_sse.append(sepal_kmeans.inertia_)\n",
    "    \n",
    "    # petal\n",
    "    petal_kmeans = KMeans(n_clusters=k, init='k-means++',\n",
    "                          max_iter=300, n_init=10, random_state=0).fit(petal_x)\n",
    "    petal_sse.append(petal_kmeans.inertia_)\n",
    "\n",
    "fix, axes = plt.subplots(1, 3, figsize=(18,5))\n",
    "axes[0].plot(range(1, 15), all_sse, 'bx-')\n",
    "axes[0].set_title('Elbow Method For Optimal k using all parameters')\n",
    "axes[0].set_xlabel('Number of clusters (k)')\n",
    "axes[0].set_ylabel('Sum of squared distances')\n",
    "\n",
    "axes[1].plot(range(1, 15), sepal_sse, 'bx-')\n",
    "axes[1].set_title('Elbow Method For Optimal k using sepal parameters')\n",
    "axes[1].set_xlabel('Number of clusters (k)')\n",
    "axes[1].set_ylabel('Sum of squared distances')\n",
    "\n",
    "axes[2].plot(range(1, 15), petal_sse, 'bx-')\n",
    "axes[2].set_title('Elbow Method For Optimal k using petal parameters')\n",
    "axes[2].set_xlabel('Number of clusters (k)')\n",
    "axes[2].set_ylabel('Sum of squared distances')\n",
    "\n",
    "plt.xticks(range(1, 15))\n",
    "plt.show();"
   ]
  },
  {
   "cell_type": "markdown",
   "metadata": {},
   "source": [
    "Fitting the 3 models by using number of clusters, k=3"
   ]
  },
  {
   "cell_type": "code",
   "execution_count": null,
   "metadata": {},
   "outputs": [],
   "source": [
    "# total Kmeans clustering\n",
    "all_kmeans = KMeans(n_clusters=3, init='k-means++',\n",
    "                      max_iter=300, n_init=10, random_state=0)\n",
    "all_y_kmeans = all_kmeans.fit_predict(all_x)"
   ]
  },
  {
   "cell_type": "code",
   "execution_count": null,
   "metadata": {},
   "outputs": [],
   "source": [
    "# only sepal Kmeans clustering\n",
    "sepal_kmeans = KMeans(n_clusters=3, init='k-means++',\n",
    "                      max_iter=300, n_init=10, random_state=0)\n",
    "sepal_y_kmeans = sepal_kmeans.fit_predict(sepal_x)"
   ]
  },
  {
   "cell_type": "code",
   "execution_count": null,
   "metadata": {},
   "outputs": [],
   "source": [
    "# only petal Kmeans clustering\n",
    "petal_kmeans = KMeans(n_clusters=3, init='k-means++',\n",
    "                      max_iter=300, n_init=10, random_state=0)\n",
    "petal_y_kmeans = petal_kmeans.fit_predict(petal_x)"
   ]
  },
  {
   "cell_type": "markdown",
   "metadata": {},
   "source": [
    "### All parameters"
   ]
  },
  {
   "cell_type": "code",
   "execution_count": null,
   "metadata": {},
   "outputs": [],
   "source": [
    "# Visualising the clusters and comaring models\n",
    "fig, axes = plt.subplots(1, 2, figsize=(16,4))\n",
    "\n",
    "# all params clusters\n",
    "axes[0].scatter(all_x[all_y_kmeans == 0, 0], all_x[all_y_kmeans == 0, 1], \n",
    "            c='red', label='Iris-setosa')\n",
    "axes[0].scatter(all_x[all_y_kmeans == 1, 0], all_x[all_y_kmeans == 1, 1], \n",
    "            c='blue', label='Iris-versicolor')\n",
    "axes[0].scatter(all_x[all_y_kmeans == 2, 0], all_x[all_y_kmeans == 2, 1],\n",
    "            c='green', label='Iris-virginica')\n",
    "\n",
    "axes[0].scatter(all_kmeans.cluster_centers_[:, 0], all_kmeans.cluster_centers_[:,1], \n",
    "            c='black', marker='X', s=100, label='centroids')\n",
    "\n",
    "axes[0].set_title('All Parameters Clusters')\n",
    "\n",
    "# ground truth\n",
    "sns.scatterplot(data=data, x=\"SepalLengthCm\", y=\"SepalWidthCm\", ax=axes[1],\n",
    "                hue='Species', legend=False)\n",
    "sns.scatterplot(data=data, x=\"PetalLengthCm\", y=\"PetalWidthCm\", ax=axes[1],\n",
    "                hue='Species', legend=False)\n",
    "\n",
    "axes[1].set_title('Ground Truth')\n",
    "axes[1].set_ylabel('')\n",
    "axes[1].set_xlabel('')\n",
    "\n",
    "plt.show();"
   ]
  },
  {
   "cell_type": "markdown",
   "metadata": {},
   "source": [
    "### Sepal parameters"
   ]
  },
  {
   "cell_type": "code",
   "execution_count": null,
   "metadata": {},
   "outputs": [],
   "source": [
    "fig, axes = plt.subplots(1, 2, figsize=(16,4))\n",
    "\n",
    "# sepal clusters\n",
    "axes[0].scatter(sepal_x[sepal_y_kmeans == 0, 0], sepal_x[sepal_y_kmeans == 0, 1], \n",
    "            c='red', label='Iris-setosa')\n",
    "axes[0].scatter(sepal_x[sepal_y_kmeans == 1, 0], sepal_x[sepal_y_kmeans == 1, 1], \n",
    "            c='blue', label='Iris-versicolor')\n",
    "axes[0].scatter(sepal_x[sepal_y_kmeans == 2, 0], sepal_x[sepal_y_kmeans == 2, 1],\n",
    "            c='green', label='Iris-virginica')\n",
    "\n",
    "axes[0].scatter(sepal_kmeans.cluster_centers_[:, 0], sepal_kmeans.cluster_centers_[:,1], \n",
    "            c='black', marker='X', s=100, label='centroids')\n",
    "\n",
    "axes[0].set_title('Sepal Parameters Clusters')\n",
    "\n",
    "# ground truth\n",
    "sns.scatterplot(data=data, x=\"SepalLengthCm\", y=\"SepalWidthCm\",\n",
    "                ax=axes[1], hue='Species', legend=False)\n",
    "\n",
    "axes[1].set_title('Ground Truth')\n",
    "axes[1].set_ylabel('')\n",
    "axes[1].set_xlabel('')\n",
    "\n",
    "plt.show();"
   ]
  },
  {
   "cell_type": "markdown",
   "metadata": {},
   "source": [
    "### Petal parameters"
   ]
  },
  {
   "cell_type": "code",
   "execution_count": null,
   "metadata": {},
   "outputs": [],
   "source": [
    "fig, axes = plt.subplots(1, 2, figsize=(16,4))\n",
    "\n",
    "# petal clusters\n",
    "axes[0].scatter(petal_x[petal_y_kmeans == 0, 0], petal_x[petal_y_kmeans == 0, 1], \n",
    "            c='red', label='Iris-setosa')\n",
    "axes[0].scatter(petal_x[petal_y_kmeans == 1, 0], petal_x[petal_y_kmeans == 1, 1], \n",
    "            c='blue', label='Iris-versicolor')\n",
    "axes[0].scatter(petal_x[petal_y_kmeans == 2, 0], petal_x[petal_y_kmeans == 2, 1],\n",
    "            c='green', label='Iris-virginica')\n",
    "\n",
    "axes[0].scatter(petal_kmeans.cluster_centers_[:, 0], petal_kmeans.cluster_centers_[:,1], \n",
    "            c='black', marker='X', s=100, label='centroids')\n",
    "\n",
    "axes[0].set_title('Petal Parameters Clusters')\n",
    "\n",
    "# ground truth\n",
    "sns.scatterplot(data=data, x=\"PetalLengthCm\", y=\"PetalWidthCm\",\n",
    "                ax=axes[1], hue='Species', legend=False)\n",
    "\n",
    "axes[1].set_title('Ground Truth')\n",
    "axes[1].set_ylabel('')\n",
    "axes[1].set_xlabel('')\n",
    "\n",
    "plt.show();"
   ]
  },
  {
   "cell_type": "markdown",
   "metadata": {},
   "source": [
    "## Evaluation"
   ]
  },
  {
   "cell_type": "markdown",
   "metadata": {},
   "source": [
    "Since I had the true values that needed to be predicted, I evaluated the models using 3 different metrics.\n",
    "1. **Adjusted rand score**, which measures similarity between the model cluster and the actual clusters.\n",
    "\n",
    "2. **Fowlkes Mallows Score**, also measures the similarity index much like the rand score.\n",
    "\n",
    "3. **Silhouette score**, this metric is used when the true values are unknown so the model is evaluated against itself. It measures the distinctness of the clusters."
   ]
  },
  {
   "cell_type": "code",
   "execution_count": null,
   "metadata": {},
   "outputs": [],
   "source": [
    "from sklearn.metrics import silhouette_score, adjusted_rand_score, fowlkes_mallows_score"
   ]
  },
  {
   "cell_type": "code",
   "execution_count": null,
   "metadata": {
    "scrolled": true
   },
   "outputs": [],
   "source": [
    "score = adjusted_rand_score(y_true, all_kmeans.labels_)\n",
    "print('Adjusted Rand Score:', score)\n",
    "\n",
    "score = fowlkes_mallows_score(y_true, all_kmeans.labels_)\n",
    "print('Fowlkes Mallows Score:', score)\n",
    "\n",
    "score = silhouette_score(all_x, all_kmeans.labels_)\n",
    "print('Silhouette Score:', score)"
   ]
  },
  {
   "cell_type": "code",
   "execution_count": null,
   "metadata": {},
   "outputs": [],
   "source": [
    "score = adjusted_rand_score(y_true, sepal_kmeans.labels_)\n",
    "print('Adjusted Rand Score:', score)\n",
    "\n",
    "score = fowlkes_mallows_score(y_true, sepal_kmeans.labels_)\n",
    "print('Fowlkes Mallows Score:', score)\n",
    "\n",
    "score = silhouette_score(sepal_x, sepal_kmeans.labels_)\n",
    "print('Silhouette Score:', score)"
   ]
  },
  {
   "cell_type": "code",
   "execution_count": null,
   "metadata": {
    "scrolled": true
   },
   "outputs": [],
   "source": [
    "score = adjusted_rand_score(y_true, petal_kmeans.labels_)\n",
    "print('Adjusted Rand Score:', score)\n",
    "\n",
    "score = fowlkes_mallows_score(y_true, petal_kmeans.labels_)\n",
    "print('Fowlkes Mallows Score:', score)\n",
    "\n",
    "score = silhouette_score(petal_x, petal_kmeans.labels_)\n",
    "print('Silhouette Score:', score)"
   ]
  },
  {
   "cell_type": "markdown",
   "metadata": {},
   "source": [
    "## Conclusion"
   ]
  },
  {
   "cell_type": "markdown",
   "metadata": {},
   "source": []
  }
 ],
 "metadata": {
  "kernelspec": {
   "display_name": "Python 3",
   "language": "python",
   "name": "python3"
  },
  "language_info": {
   "codemirror_mode": {
    "name": "ipython",
    "version": 3
   },
   "file_extension": ".py",
   "mimetype": "text/x-python",
   "name": "python",
   "nbconvert_exporter": "python",
   "pygments_lexer": "ipython3",
   "version": "3.8.5"
  }
 },
 "nbformat": 4,
 "nbformat_minor": 4
}
