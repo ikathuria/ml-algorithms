{
 "cells": [
  {
   "cell_type": "markdown",
   "metadata": {},
   "source": [
    "# Basic Python programming concepts\n",
    "The following programs have been implemented from [Geeks for Geeks](https://www.geeksforgeeks.org/python-programming-examples/)."
   ]
  },
  {
   "cell_type": "code",
   "execution_count": 1,
   "metadata": {},
   "outputs": [],
   "source": [
    "import numpy as np"
   ]
  },
  {
   "cell_type": "markdown",
   "metadata": {},
   "source": [
    "## Array program\n",
    "Split an array at specified position and add the first part to the end."
   ]
  },
  {
   "cell_type": "code",
   "execution_count": 2,
   "metadata": {},
   "outputs": [
    {
     "name": "stdout",
     "output_type": "stream",
     "text": [
      "Enter array values separated by space: 1 2 3 4 5 6 7 8 9 10\n",
      "Enter position of split: 2\n",
      "\n",
      "Old array: [1, 2, 3, 4, 5, 6, 7, 8, 9, 10]\n",
      "New array: [3, 4, 5, 6, 7, 8, 9, 10, 1, 2]\n"
     ]
    }
   ],
   "source": [
    "arr = [int(x) for x in input(\"Enter array values separated by space: \").split(\" \")]\n",
    "n = int(input(\"Enter position of split: \"))\n",
    "\n",
    "first_split = arr[:n]\n",
    "new_arr = arr[n:]\n",
    "new_arr.extend(first_split)\n",
    "\n",
    "print(\"\\nOld array:\", arr)\n",
    "print(\"New array:\", new_arr)"
   ]
  },
  {
   "cell_type": "markdown",
   "metadata": {},
   "source": [
    "## List program\n",
    "Break a list into chunks of size n."
   ]
  },
  {
   "cell_type": "code",
   "execution_count": 3,
   "metadata": {},
   "outputs": [
    {
     "name": "stdout",
     "output_type": "stream",
     "text": [
      "Enter values of list separated by space: 1 2 3 4 5 6 7 8 9 10\n",
      "Enter chunk size: 3\n",
      "Old List: [1, 2, 3, 4, 5, 6, 7, 8, 9, 10]\n",
      "New List: [[1, 2, 3], [4, 5, 6], [7, 8, 9], [10]]\n"
     ]
    }
   ],
   "source": [
    "old_list = [int(x) for x in input(\"Enter values of list separated by space: \").split(\" \")]\n",
    "n = int(input(\"Enter chunk size: \"))\n",
    "\n",
    "new_list = []\n",
    "for i in range(0, len(old_list), n):\n",
    "    temp = old_list[i:i+n]\n",
    "    new_list.append(temp)\n",
    "\n",
    "print(\"Old List:\", old_list)\n",
    "print(\"New List:\", new_list)"
   ]
  },
  {
   "cell_type": "markdown",
   "metadata": {},
   "source": [
    "## Matrix Program\n",
    "Adding and Subtracting Matrices."
   ]
  },
  {
   "cell_type": "code",
   "execution_count": 4,
   "metadata": {},
   "outputs": [
    {
     "name": "stdout",
     "output_type": "stream",
     "text": [
      "Enter values of matrix separated by space for column values and semicolon for rows (eg: 1 2 3;4 5 6): 1 2 3;4 5 6\n",
      "Enter values of matrix separated by space for column values and semicolon for rows (eg: 1 2 3;4 5 6): 1 2 3;4 5 6\n",
      "\n",
      "Addition value:\n",
      " [[ 2  4  6]\n",
      " [ 8 10 12]]\n",
      "\n",
      "Subtraction value:\n",
      " [[0 0 0]\n",
      " [0 0 0]]\n"
     ]
    }
   ],
   "source": [
    "mat_inp = \"Enter values of matrix separated by space for column values and semicolon for rows (eg: 1 2 3;4 5 6): \"\n",
    "\n",
    "matrix1 = [[int(y) for y in x.split(\" \")] for x in input(mat_inp).split(\";\")]\n",
    "matrix2 = [[int(y) for y in x.split(\" \")] for x in input(mat_inp).split(\";\")]\n",
    "\n",
    "addition_mat = np.add(matrix1, matrix2)\n",
    "subtraction_mat = np.subtract(matrix1, matrix2)\n",
    "\n",
    "print(\"\\nAddition value:\\n\", addition_mat)\n",
    "print(\"\\nSubtraction value:\\n\", subtraction_mat)"
   ]
  },
  {
   "cell_type": "markdown",
   "metadata": {},
   "source": [
    "## String Program\n",
    "Print even length words in a string."
   ]
  },
  {
   "cell_type": "code",
   "execution_count": 5,
   "metadata": {},
   "outputs": [
    {
     "name": "stdout",
     "output_type": "stream",
     "text": [
      "Enter your string: This is the python deep learning class\n",
      "\n",
      "All even length words:\n",
      " 4 This\n",
      " 2 is\n",
      " 6 python\n",
      " 4 deep\n",
      " 8 learning\n"
     ]
    }
   ],
   "source": [
    "string_words = input(\"Enter your string: \").split(\" \")\n",
    "\n",
    "print(\"\\nAll even length words:\")\n",
    "for word in string_words:\n",
    "    if len(word) % 2 == 0:\n",
    "        print(\"%2d %s\" % (len(word), word))"
   ]
  },
  {
   "cell_type": "markdown",
   "metadata": {},
   "source": [
    "## Dictionary Program\n",
    "Python program to find the sum of all items in a dictionary."
   ]
  },
  {
   "cell_type": "code",
   "execution_count": 8,
   "metadata": {},
   "outputs": [
    {
     "name": "stdout",
     "output_type": "stream",
     "text": [
      "Enter the keys separated by space: a b c\n",
      "Enter the values separated by space: 10 20 30\n",
      "Sum of values: 60\n"
     ]
    }
   ],
   "source": [
    "keys = [x for x in input(\"Enter the keys separated by space: \").split(\" \")]\n",
    "values = [int(x) for x in input(\"Enter the values separated by space: \").split(\" \")]\n",
    "diction = {i:j for i,j in zip(keys, values)}\n",
    "\n",
    "print(\"Sum of values:\", sum(values))"
   ]
  },
  {
   "cell_type": "markdown",
   "metadata": {},
   "source": [
    "## Tuple Program\n",
    "Extract digits from Tuple list."
   ]
  },
  {
   "cell_type": "code",
   "execution_count": 10,
   "metadata": {},
   "outputs": [
    {
     "name": "stdout",
     "output_type": "stream",
     "text": [
      "Enter values of tuple 1 separated by space: 1 2 3\n",
      "Enter values of tuple 2 separated by space: 5 6\n",
      "The filtered tuple : [(1, 5), (1, 6), (2, 5), (2, 6), (3, 5), (3, 6), (5, 1), (5, 2), (5, 3), (6, 1), (6, 2), (6, 3)]\n"
     ]
    }
   ],
   "source": [
    "tuple1 = tuple([int(x) for x in input(\"Enter values of tuple 1 separated by space: \").split(\" \")])\n",
    "tuple2 = tuple([int(x) for x in input(\"Enter values of tuple 2 separated by space: \").split(\" \")])\n",
    "\n",
    "res =  [(a, b) for a in tuple1 for b in tuple2]\n",
    "res = res +  [(a, b) for a in tuple2 for b in tuple1]\n",
    "\n",
    "print(\"The filtered tuple : \" + str(res))"
   ]
  },
  {
   "cell_type": "markdown",
   "metadata": {},
   "source": [
    "## Searching and Sorting Program\n"
   ]
  },
  {
   "cell_type": "code",
   "execution_count": null,
   "metadata": {},
   "outputs": [],
   "source": []
  },
  {
   "cell_type": "code",
   "execution_count": null,
   "metadata": {},
   "outputs": [],
   "source": []
  },
  {
   "cell_type": "code",
   "execution_count": null,
   "metadata": {},
   "outputs": [],
   "source": []
  },
  {
   "cell_type": "code",
   "execution_count": null,
   "metadata": {},
   "outputs": [],
   "source": []
  },
  {
   "cell_type": "code",
   "execution_count": null,
   "metadata": {},
   "outputs": [],
   "source": []
  },
  {
   "cell_type": "code",
   "execution_count": null,
   "metadata": {},
   "outputs": [],
   "source": []
  },
  {
   "cell_type": "code",
   "execution_count": null,
   "metadata": {},
   "outputs": [],
   "source": []
  },
  {
   "cell_type": "code",
   "execution_count": null,
   "metadata": {},
   "outputs": [],
   "source": []
  }
 ],
 "metadata": {
  "kernelspec": {
   "display_name": "Python 3 (ipykernel)",
   "language": "python",
   "name": "python3"
  },
  "language_info": {
   "codemirror_mode": {
    "name": "ipython",
    "version": 3
   },
   "file_extension": ".py",
   "mimetype": "text/x-python",
   "name": "python",
   "nbconvert_exporter": "python",
   "pygments_lexer": "ipython3",
   "version": "3.9.7"
  }
 },
 "nbformat": 4,
 "nbformat_minor": 2
}
