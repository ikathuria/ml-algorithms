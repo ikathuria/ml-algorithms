{
 "cells": [
  {
   "cell_type": "markdown",
   "id": "2fe766fa",
   "metadata": {},
   "source": [
    "# Perceptron Model"
   ]
  },
  {
   "cell_type": "code",
   "execution_count": 1,
   "id": "05cca30a",
   "metadata": {},
   "outputs": [],
   "source": [
    "import numpy as np"
   ]
  },
  {
   "cell_type": "code",
   "execution_count": null,
   "id": "7a573d73",
   "metadata": {},
   "outputs": [],
   "source": [
    "class Perceptron:\n",
    "\n",
    "    def __init__(self, alpha=0.1):\n",
    "        \"\"\"Initialize the weight matrix and store the learning rate.\n",
    "        \n",
    "        Args:\n",
    "            N: number of columns in our input feature vectors.\n",
    "            alpha: learning rate for the Perceptron algorithm, by default=0.1\n",
    "        \"\"\"\n",
    "        self.X = np.array([[0, 0], [0, 1], [1, 0], [1, 1]])\n",
    "        N = self.X.shape[1]\n",
    "        self.W = np.random.randn(N + 1) / np.sqrt(N)\n",
    "        self.alpha = alpha\n",
    "        self.define_output()\n",
    "    \n",
    "    def define_output(self):\n",
    "        \"\"\"Defining the output logic gate.\n",
    "        \"\"\"\n",
    "        outputs = {\n",
    "            'and': [[0], [0], [0], [1]], 'nand': [[1], [1], [1], [0]], 'or': [[0], [1], [1], [1]],\n",
    "            'nor': [[1], [0], [0], [0]], 'xor': [[0], [1], [1], [0]], 'xnor': [[1], [0], [0], [1]]\n",
    "        }\n",
    "\n",
    "        lg = \"\"\"\n",
    "        █░░ █▀▀█ █▀▀▀ ░▀░ █▀▀ 　 █▀▀▀ █▀▀█ ▀▀█▀▀ █▀▀ █▀▀ \n",
    "        █░░ █░░█ █░▀█ ▀█▀ █░░ 　 █░▀█ █▄▄█ ░░█░░ █▀▀ ▀▀█ \n",
    "        ▀▀▀ ▀▀▀▀ ▀▀▀▀ ▀▀▀ ▀▀▀ 　 ▀▀▀▀ ▀░░▀ ░░▀░░ ▀▀▀ ▀▀▀\n",
    "\n",
    "        A B | AND NAND OR NOR XOR XNOR\n",
    "        -------------------------------\n",
    "        0 0 |  0    1   0  1   0   1\n",
    "        0 1 |  0    1   1  0   1   0\n",
    "        1 0 |  0    1   1  0   1   0\n",
    "        1 1 |  1    0   1  0   0   1\n",
    "        \"\"\"\n",
    "        print(lg)\n",
    "\n",
    "        while True:\n",
    "            try:\n",
    "                self.output_gate = input('Enter your chosen logic gate: ').lower()\n",
    "                break\n",
    "            except KeyError:\n",
    "                print('Invalid logic gate, try again!\\n')\n",
    "\n",
    "        self.y = np.array(outputs[output_gate])\n",
    "    \n",
    "    def step(self, x):\n",
    "        \"\"\"Apply the perceptron step function.\n",
    "        \"\"\"\n",
    "        return 1 if x > 0 else 0\n",
    "\n",
    "    def fit(self, epochs=10):\n",
    "        \"\"\"Insert a column of 1's as the last entry in the feature\n",
    "        matrix -- this little trick allows us to treat the bias\n",
    "        as a trainable parameter within the weight matrix.\n",
    "        \"\"\"\n",
    "        self.X = np.c_[self.X, np.ones((self.X.shape[0]))]\n",
    "\n",
    "        # loop over the desired number of epochs\n",
    "        for epoch in np.arange(0, epochs):\n",
    "            # loop over each individual data point\n",
    "\n",
    "            for (x, target) in zip(self.X, self.y):\n",
    "                # take the dot product between the input features\n",
    "                # and the weight matrix, then pass this value\n",
    "                # through the step function to obtain the prediction\n",
    "\n",
    "                p = self.step(np.dot(x, self.W))\n",
    "                # only perform a weight update if our prediction\n",
    "                # does not match the target\n",
    "                if p != target:\n",
    "                    # determine the error\n",
    "                    error = p - target\n",
    "                    # update the weight matrix\n",
    "                    self.W += -self.alpha * error * x\n",
    "\n",
    "    def predict(self, addBias=True):\n",
    "        \"\"\"Predicting values with trained network.\n",
    "        \"\"\"\n",
    "        # ensure our input is a matrix\n",
    "        self.X = np.atleast_2d(self.X)\n",
    "\n",
    "        # check to see if the bias column should be added\n",
    "        if addBias:\n",
    "            # insert a column of 1's as the last entry in the feature\n",
    "            # matrix (bias)\n",
    "            self.X = np.c_[self.X, np.ones((self.X.shape[0]))]\n",
    "\n",
    "        # take the dot product between the input features and the\n",
    "        # weight matrix, then pass the value through the step\n",
    "        # function\n",
    "        return self.step(np.dot(self.X, self.W))"
   ]
  },
  {
   "cell_type": "markdown",
   "id": "2dc6d497",
   "metadata": {},
   "source": [
    "## Setting input, `X` and output, `Y_target`"
   ]
  },
  {
   "cell_type": "code",
   "execution_count": null,
   "id": "66aa7a78",
   "metadata": {},
   "outputs": [],
   "source": []
  },
  {
   "cell_type": "code",
   "execution_count": 7,
   "id": "a7242667",
   "metadata": {},
   "outputs": [],
   "source": [
    "def unit_step(v):\n",
    "    if v >= 0:\n",
    "        return 1\n",
    "    else:\n",
    "        return 0"
   ]
  },
  {
   "cell_type": "code",
   "execution_count": 8,
   "id": "9a6afd55",
   "metadata": {},
   "outputs": [],
   "source": [
    "def perceptron_model(x, w, b):\n",
    "    v = np.dot(w, x) + b\n",
    "    y = unit_step(v)\n",
    "    return y"
   ]
  },
  {
   "cell_type": "code",
   "execution_count": 9,
   "id": "3eb16a4a",
   "metadata": {},
   "outputs": [],
   "source": [
    "def AND_logic_function(x):\n",
    "    w = np.array([1, 1])\n",
    "    b = -0.5\n",
    "    return perceptron_model(x, w, b)"
   ]
  },
  {
   "cell_type": "code",
   "execution_count": 10,
   "id": "e9f67702",
   "metadata": {},
   "outputs": [],
   "source": [
    "test1 = np.array([0, 1])\n",
    "test2 = np.array([1, 1])\n",
    "test3 = np.array([0, 0])\n",
    "test4 = np.array([1, 0])"
   ]
  },
  {
   "cell_type": "code",
   "execution_count": 11,
   "id": "8b1b0a7c",
   "metadata": {},
   "outputs": [
    {
     "name": "stdout",
     "output_type": "stream",
     "text": [
      "OR(0, 1) = 1\n",
      "OR(1, 1) = 1\n",
      "OR(0, 0) = 0\n",
      "OR(1, 0) = 1\n"
     ]
    }
   ],
   "source": [
    "print(\"OR({}, {}) = {}\".format(0, 1, AND_logic_function(test1)))\n",
    "print(\"OR({}, {}) = {}\".format(1, 1, AND_logic_function(test2)))\n",
    "print(\"OR({}, {}) = {}\".format(0, 0, AND_logic_function(test3)))\n",
    "print(\"OR({}, {}) = {}\".format(1, 0, AND_logic_function(test4)))"
   ]
  },
  {
   "cell_type": "code",
   "execution_count": null,
   "id": "4f369a49",
   "metadata": {},
   "outputs": [],
   "source": []
  }
 ],
 "metadata": {
  "kernelspec": {
   "display_name": "Python 3 (ipykernel)",
   "language": "python",
   "name": "python3"
  },
  "language_info": {
   "codemirror_mode": {
    "name": "ipython",
    "version": 3
   },
   "file_extension": ".py",
   "mimetype": "text/x-python",
   "name": "python",
   "nbconvert_exporter": "python",
   "pygments_lexer": "ipython3",
   "version": "3.10.2"
  }
 },
 "nbformat": 4,
 "nbformat_minor": 5
}
