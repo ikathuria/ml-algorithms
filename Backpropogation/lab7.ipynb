{
 "cells": [
  {
   "cell_type": "markdown",
   "metadata": {},
   "source": [
    "# Logic gates with Neural Networks (Backpropogation)"
   ]
  },
  {
   "cell_type": "code",
   "execution_count": 1,
   "metadata": {
    "id": "vuhF9_IXMES6"
   },
   "outputs": [],
   "source": [
    "import numpy as np\n",
    "import pandas as pd\n",
    "pd.set_option('max_colwidth', None)"
   ]
  },
  {
   "cell_type": "code",
   "execution_count": 2,
   "metadata": {
    "id": "EXh6FrflPcam"
   },
   "outputs": [],
   "source": [
    "def sigmoid(x):\n",
    "    \"\"\"Implementing the sigmoid function for x.\n",
    "    sig(x) = 1/(1+e^-x)\n",
    "\n",
    "    Args:\n",
    "        x: input for which signmoid function needs to be calculated.\n",
    "\n",
    "    Returns:\n",
    "        the sigmoid function.\n",
    "    \"\"\"\n",
    "    return 1 / (1 + (np.exp(-x)))"
   ]
  },
  {
   "cell_type": "code",
   "execution_count": 3,
   "metadata": {
    "id": "csmFAxGqQ4oK"
   },
   "outputs": [],
   "source": [
    "def sigmoid_derivative(x):\n",
    "    \"\"\"Implementing the sigmoid function for x.\n",
    "    sig'(x) = x * (1-x)\n",
    "\n",
    "    Args:\n",
    "        x: input for which derivative of signmoid function needs to be calculated.\n",
    "\n",
    "    Returns:\n",
    "        the derivative of sigmoid function.\n",
    "    \"\"\"\n",
    "    return sigmoid(x) * (1-sigmoid(x))"
   ]
  },
  {
   "cell_type": "markdown",
   "metadata": {},
   "source": [
    "## Setting input, `X` and output, `Y_target`"
   ]
  },
  {
   "cell_type": "code",
   "execution_count": 4,
   "metadata": {},
   "outputs": [
    {
     "data": {
      "text/plain": [
       "array([[0, 0],\n",
       "       [0, 1],\n",
       "       [1, 0],\n",
       "       [1, 1]])"
      ]
     },
     "execution_count": 4,
     "metadata": {},
     "output_type": "execute_result"
    }
   ],
   "source": [
    "# set the Input datasets\n",
    "X = np.array([[0,0],[0,1],[1,0],[1,1]])\n",
    "X"
   ]
  },
  {
   "cell_type": "code",
   "execution_count": 5,
   "metadata": {},
   "outputs": [
    {
     "name": "stdout",
     "output_type": "stream",
     "text": [
      "\n",
      "█░░ █▀▀█ █▀▀▀ ░▀░ █▀▀ 　 █▀▀▀ █▀▀█ ▀▀█▀▀ █▀▀ █▀▀ \n",
      "█░░ █░░█ █░▀█ ▀█▀ █░░ 　 █░▀█ █▄▄█ ░░█░░ █▀▀ ▀▀█ \n",
      "▀▀▀ ▀▀▀▀ ▀▀▀▀ ▀▀▀ ▀▀▀ 　 ▀▀▀▀ ▀░░▀ ░░▀░░ ▀▀▀ ▀▀▀\n",
      "A B | AND NAND OR NOR XOR XNOR\n",
      "-------------------------------\n",
      "0 0 |  0    1   0  1   0   1\n",
      "0 1 |  0    1   1  0   1   0\n",
      "1 0 |  0    1   1  0   1   0\n",
      "1 1 |  1    0   1  0   0   1\n",
      "\n",
      "Enter your chosen logic gate: xor\n"
     ]
    },
    {
     "data": {
      "text/plain": [
       "array([[0],\n",
       "       [1],\n",
       "       [1],\n",
       "       [0]])"
      ]
     },
     "execution_count": 5,
     "metadata": {},
     "output_type": "execute_result"
    }
   ],
   "source": [
    "outputs = {\n",
    "    'and': [[0], [0], [0], [1]], 'nand': [[1], [1], [1], [0]], 'or': [[0], [1], [1], [1]],\n",
    "    'nor': [[1], [0], [0], [0]], 'xor': [[0], [1], [1], [0]], 'xnor': [[1], [0], [0], [1]]\n",
    "}\n",
    "input_list = [(0, 0), (0, 1), (1, 0), (1, 1)]\n",
    "\n",
    "lg = \"\"\"\n",
    "█░░ █▀▀█ █▀▀▀ ░▀░ █▀▀ 　 █▀▀▀ █▀▀█ ▀▀█▀▀ █▀▀ █▀▀ \n",
    "█░░ █░░█ █░▀█ ▀█▀ █░░ 　 █░▀█ █▄▄█ ░░█░░ █▀▀ ▀▀█ \n",
    "▀▀▀ ▀▀▀▀ ▀▀▀▀ ▀▀▀ ▀▀▀ 　 ▀▀▀▀ ▀░░▀ ░░▀░░ ▀▀▀ ▀▀▀\n",
    "A B | AND NAND OR NOR XOR XNOR\n",
    "-------------------------------\n",
    "0 0 |  0    1   0  1   0   1\n",
    "0 1 |  0    1   1  0   1   0\n",
    "1 0 |  0    1   1  0   1   0\n",
    "1 1 |  1    0   1  0   0   1\n",
    "\"\"\"\n",
    "print(lg)\n",
    "\n",
    "while True:\n",
    "    try:\n",
    "        output_gate = input('Enter your chosen logic gate: ').lower()\n",
    "        break\n",
    "    except KeyError:\n",
    "        print('Invalid logic gate, try again!\\n')\n",
    "\n",
    "# set the expected output\n",
    "Y_target = np.array(outputs[output_gate])\n",
    "Y_target"
   ]
  },
  {
   "cell_type": "markdown",
   "metadata": {},
   "source": [
    "## Training"
   ]
  },
  {
   "cell_type": "code",
   "execution_count": 6,
   "metadata": {
    "colab": {
     "base_uri": "https://localhost:8080/"
    },
    "id": "vQwdCVjJVTgv",
    "outputId": "1f7fca58-1426-49bc-e075-369c6b6e2727"
   },
   "outputs": [
    {
     "name": "stdout",
     "output_type": "stream",
     "text": [
      "Initial weights 1:\n",
      " [[0.1 0.2 0.3]\n",
      " [0.4 0.5 0.6]]\n",
      "Initial weights 2:\n",
      " [[0.7]\n",
      " [0.8]\n",
      " [0.9]]\n",
      "\n",
      "Learning rate: 0.05\n",
      "Final weights 1\n",
      " [[-1.27669418  3.25509563  5.03516485]\n",
      " [ 3.2199263  -1.3052818   5.06691904]]\n",
      "Final weights 2\n",
      " [[-5.95676969]\n",
      " [-5.89124642]\n",
      " [ 8.71065791]]\n"
     ]
    }
   ],
   "source": [
    "# assign Random weights\n",
    "# 6 for hidden layer\n",
    "# 3 for output layer\n",
    "W1 = np.array([[0.1, 0.2, 0.3], [0.4, 0.5, 0.6]])\n",
    "W2 = np.array([[0.7], [0.8], [0.9]])\n",
    "print(\"Initial weights 1:\\n\", W1)\n",
    "print(\"Initial weights 2:\\n\", W2)\n",
    "\n",
    "# learning rate\n",
    "lr = 0.05\n",
    "print(\"\\nLearning rate:\", lr)\n",
    "\n",
    "for epoch in range(20000):\n",
    "    # forward propagation\n",
    "    Z = np.dot(X, W1)\n",
    "    H = sigmoid(Z)\n",
    "\n",
    "    U = np.dot(H, W2)\n",
    "    Y = sigmoid(U)\n",
    "\n",
    "    # calculate Loss function (Mean Square error loss)\n",
    "    E = Y - Y_target\n",
    "    L = 1/2 * (np.power(E, 2))\n",
    "#     print(f\"{epoch} - Error: {E.sum()},  MSE loss: {L.sum()}\")\n",
    "\n",
    "    # backpropagation - Stage 1\n",
    "    dL_dY = Y - Y_target\n",
    "    dY_dU = Y * (1-Y)\n",
    "    dU_dW2 = H\n",
    "\n",
    "    dL_dW2 = np.dot(dU_dW2.T,dL_dY*dY_dU)\n",
    "\n",
    "    # weight updates in stage 1\n",
    "    W2 -= lr*dL_dW2\n",
    "\n",
    "    # backpropagation - Stage 2\n",
    "    dL_dY = Y-Y_target\n",
    "    dY_dU = Y*(1-Y)\n",
    "    dU_dH = W2\n",
    "    dH_dZ = H*(1-H)\n",
    "    dZ_dW1 = X \n",
    "\n",
    "    dL_dH = np.dot(dL_dY*dY_dU,dU_dH.T)\n",
    "    dL_dW1 = np.dot(dZ_dW1.T,dH_dZ*dL_dH)\n",
    "\n",
    "    # weight updates in stage 2\n",
    "    W1 -= lr*dL_dW1\n",
    "\n",
    "print(\"Final weights 1\\n\", W1)\n",
    "print(\"Final weights 2\\n\", W2)"
   ]
  },
  {
   "cell_type": "markdown",
   "metadata": {},
   "source": [
    "## Testing"
   ]
  },
  {
   "cell_type": "code",
   "execution_count": 7,
   "metadata": {
    "colab": {
     "base_uri": "https://localhost:8080/"
    },
    "id": "t9YX2ylgR8zx",
    "outputId": "1d08f60b-e260-4515-9dd9-840282df44d9"
   },
   "outputs": [
    {
     "name": "stdout",
     "output_type": "stream",
     "text": [
      "LOGIC GATE: XOR\n"
     ]
    },
    {
     "data": {
      "text/html": [
       "<div>\n",
       "<style scoped>\n",
       "    .dataframe tbody tr th:only-of-type {\n",
       "        vertical-align: middle;\n",
       "    }\n",
       "\n",
       "    .dataframe tbody tr th {\n",
       "        vertical-align: top;\n",
       "    }\n",
       "\n",
       "    .dataframe thead th {\n",
       "        text-align: right;\n",
       "    }\n",
       "</style>\n",
       "<table border=\"1\" class=\"dataframe\">\n",
       "  <thead>\n",
       "    <tr style=\"text-align: right;\">\n",
       "      <th></th>\n",
       "      <th>Input1</th>\n",
       "      <th>Input2</th>\n",
       "      <th>Z</th>\n",
       "      <th>H</th>\n",
       "      <th>U</th>\n",
       "      <th>Y</th>\n",
       "      <th>Target</th>\n",
       "      <th>Prediction</th>\n",
       "    </tr>\n",
       "  </thead>\n",
       "  <tbody>\n",
       "    <tr>\n",
       "      <th>0</th>\n",
       "      <td>0</td>\n",
       "      <td>0</td>\n",
       "      <td>[0.0, 0.0, 0.0]</td>\n",
       "      <td>[0.5, 0.5, 0.5]</td>\n",
       "      <td>[-1.5686791007710408]</td>\n",
       "      <td>[0.1724047779001969]</td>\n",
       "      <td>0</td>\n",
       "      <td>0.172405</td>\n",
       "    </tr>\n",
       "    <tr>\n",
       "      <th>1</th>\n",
       "      <td>0</td>\n",
       "      <td>1</td>\n",
       "      <td>[3.219926297971157, -1.3052817955798506, 5.06691904357901]</td>\n",
       "      <td>[0.9615772915661411, 0.2132774414660749, 0.9937376582107277]</td>\n",
       "      <td>[1.6717443660956899]</td>\n",
       "      <td>[0.8418082518876534]</td>\n",
       "      <td>1</td>\n",
       "      <td>0.841808</td>\n",
       "    </tr>\n",
       "    <tr>\n",
       "      <th>2</th>\n",
       "      <td>1</td>\n",
       "      <td>0</td>\n",
       "      <td>[-1.2766941797968783, 3.255095628350392, 5.035164845843059]</td>\n",
       "      <td>[0.21811347272140294, 0.962855785812643, 0.9935369174786617]</td>\n",
       "      <td>[1.682687783641075]</td>\n",
       "      <td>[0.8432601100356194]</td>\n",
       "      <td>1</td>\n",
       "      <td>0.843260</td>\n",
       "    </tr>\n",
       "    <tr>\n",
       "      <th>3</th>\n",
       "      <td>1</td>\n",
       "      <td>1</td>\n",
       "      <td>[1.9432321181742789, 1.9498138327705414, 10.102083889422069]</td>\n",
       "      <td>[0.8747067960942035, 0.87542634075265, 0.9999590076413337]</td>\n",
       "      <td>[-1.6574783879364199]</td>\n",
       "      <td>[0.16010078384135087]</td>\n",
       "      <td>0</td>\n",
       "      <td>0.160101</td>\n",
       "    </tr>\n",
       "  </tbody>\n",
       "</table>\n",
       "</div>"
      ],
      "text/plain": [
       "   Input1  Input2  \\\n",
       "0       0       0   \n",
       "1       0       1   \n",
       "2       1       0   \n",
       "3       1       1   \n",
       "\n",
       "                                                              Z  \\\n",
       "0                                               [0.0, 0.0, 0.0]   \n",
       "1    [3.219926297971157, -1.3052817955798506, 5.06691904357901]   \n",
       "2   [-1.2766941797968783, 3.255095628350392, 5.035164845843059]   \n",
       "3  [1.9432321181742789, 1.9498138327705414, 10.102083889422069]   \n",
       "\n",
       "                                                              H  \\\n",
       "0                                               [0.5, 0.5, 0.5]   \n",
       "1  [0.9615772915661411, 0.2132774414660749, 0.9937376582107277]   \n",
       "2  [0.21811347272140294, 0.962855785812643, 0.9935369174786617]   \n",
       "3    [0.8747067960942035, 0.87542634075265, 0.9999590076413337]   \n",
       "\n",
       "                       U                      Y  Target  Prediction  \n",
       "0  [-1.5686791007710408]   [0.1724047779001969]       0    0.172405  \n",
       "1   [1.6717443660956899]   [0.8418082518876534]       1    0.841808  \n",
       "2    [1.682687783641075]   [0.8432601100356194]       1    0.843260  \n",
       "3  [-1.6574783879364199]  [0.16010078384135087]       0    0.160101  "
      ]
     },
     "execution_count": 7,
     "metadata": {},
     "output_type": "execute_result"
    }
   ],
   "source": [
    "z_vals = []\n",
    "h_vals = []\n",
    "u_vals = []\n",
    "y_vals = []\n",
    "preds = []\n",
    "\n",
    "for point in X:\n",
    "    point = np.array(point)\n",
    "    z = np.dot(point, W1)\n",
    "    z_vals.append(z)\n",
    "\n",
    "    h = sigmoid(z)\n",
    "    h_vals.append(h)\n",
    "\n",
    "    op = np.dot(h, W2)\n",
    "    u_vals.append(op)\n",
    "\n",
    "    y_cap = sigmoid(op)\n",
    "    y_vals.append(y_cap)\n",
    "\n",
    "    preds.append(y_cap[0])\n",
    "\n",
    "print(f\"LOGIC GATE: {output_gate.upper()}\")\n",
    "pd.DataFrame.from_dict({\n",
    "    'Input1': X.reshape(-1)[::2],\n",
    "    'Input2': X.reshape(-1)[1::2],\n",
    "    'Z': z_vals,\n",
    "    'H': h_vals,\n",
    "    'U': u_vals,\n",
    "    'Y': y_vals,\n",
    "    'Target': Y_target.reshape(-1),\n",
    "    'Prediction': preds\n",
    "})"
   ]
  }
 ],
 "metadata": {
  "accelerator": "GPU",
  "colab": {
   "name": "NN_OR_Gate_via_Backprop.ipynb",
   "provenance": []
  },
  "kernelspec": {
   "display_name": "Python 3 (ipykernel)",
   "language": "python",
   "name": "python3"
  },
  "language_info": {
   "codemirror_mode": {
    "name": "ipython",
    "version": 3
   },
   "file_extension": ".py",
   "mimetype": "text/x-python",
   "name": "python",
   "nbconvert_exporter": "python",
   "pygments_lexer": "ipython3",
   "version": "3.9.7"
  }
 },
 "nbformat": 4,
 "nbformat_minor": 1
}
